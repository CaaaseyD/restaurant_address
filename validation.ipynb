{
 "cells": [
  {
   "cell_type": "markdown",
   "metadata": {},
   "source": [
    "### API Address Validation"
   ]
  },
  {
   "cell_type": "code",
   "execution_count": 6,
   "metadata": {},
   "outputs": [
    {
     "name": "stdout",
     "output_type": "stream",
     "text": [
      "{\"type\":\"FeatureCollection\",\"features\":[{\"type\":\"Feature\",\"properties\":{\"stateTerritory\":\"VIC\",\"addressId\":\"GAVIC414019547\",\"jurisdictionId\":\"50802711\",\"addressRecordType\":\"PRIMARY\",\"aliasPrincipal\":\"PRINCIPAL\",\"geoFeature\":\"PROPERTY ACCESS POINT SETBACK\",\"cadastralIdentifier\":\"2\\\\LP143510\",\"formattedAddress\":\"200 CLARENDON ST, SOUTH MELBOURNE VIC 3205\",\"localityName\":\"SOUTH MELBOURNE\",\"postcode\":\"3205\",\"streetName\":\"CLARENDON\",\"streetNumber1\":\"200\",\"streetType\":\"ST\",\"streetTypeDescription\":\"STREET\",\"localityNeighbour\":[\"ALBERT PARK\",\"DOCKLANDS\",\"MELBOURNE\",\"PORT MELBOURNE\",\"SOUTHBANK\"],\"localityAlias\":[\"ALBERT PARK\"],\"localityId\":\"locf51f6cd689bb\",\"streetLocalityId\":\"VIC1962364\",\"streetAlias\":[]},\"geometry\":{\"coordinates\":[144.9592403,-37.83060591],\"type\":\"Point\"},\"messages\":[],\"matchType\":\"Primary Address\",\"matchQuality\":\"Confident\",\"matchScore\":91.98,\"matchCode\":{\"streetName\":\"fuzzy\",\"localityName\":\"partial\",\"stateTerritory\":\"exact\",\"postcode\":\"exact\",\"streetNumber1\":\"numeric\",\"streetType\":\"exact\"}}],\"messages\":[],\"attribution\":\"NOTICE All rights reserved. Use of this data is subject to the Geoscape Developer Terms and Conditions (https://geoscape.com.au/legal/geoscape-developer-terms/)\",\"query\":\"200A CLARENDN ST MELBOURNE VIC 3205\",\"parsedQuery\":{\"streetNumber1\":\"200A\",\"streetName\":\"CLARENDN\",\"streetType\":\"ST\",\"localityName\":\"MELBOURNE\",\"stateTerritory\":\"VIC\",\"postcode\":\"3205\"},\"requestTimeStamp\":1691113905.328618,\"requestDateTime\":\"2023-08-04T01:51:45.328627\"}\n"
     ]
    }
   ],
   "source": [
    "import http.client\n",
    "import urllib.parse\n",
    "\n",
    "conn = http.client.HTTPSConnection(\"api.psma.com.au\")\n",
    "\n",
    "headers = {\n",
    "    'Accept-Crs': \"\",\n",
    "    'Accept': \"application/geo+json, application/json\",\n",
    "    'Authorization': \"iSbhFIaFNLl5GLFGGlH7G0PzvffiDGWI\"\n",
    "}\n",
    "\n",
    "# Define the parameters to include in the URL\n",
    "address = \"200a Clarendn St Melbourne VIC 3205\"\n",
    "parameters = {\"address\": address}\n",
    "\n",
    "# Encode the parameters and append them to the URL\n",
    "encoded_parameters = urllib.parse.urlencode(parameters)\n",
    "url = f\"/v2/addresses/geocoder?{encoded_parameters}\"\n",
    "\n",
    "conn.request(\"GET\", url, headers=headers)\n",
    "\n",
    "res = conn.getresponse()\n",
    "data = res.read()\n",
    "\n",
    "print(data.decode(\"utf-8\"))"
   ]
  }
 ],
 "metadata": {
  "kernelspec": {
   "display_name": "Python 3",
   "language": "python",
   "name": "python3"
  },
  "language_info": {
   "codemirror_mode": {
    "name": "ipython",
    "version": 3
   },
   "file_extension": ".py",
   "mimetype": "text/x-python",
   "name": "python",
   "nbconvert_exporter": "python",
   "pygments_lexer": "ipython3",
   "version": "3.10.11"
  },
  "orig_nbformat": 4
 },
 "nbformat": 4,
 "nbformat_minor": 2
}
